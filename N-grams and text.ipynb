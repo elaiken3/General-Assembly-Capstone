{
 "cells": [
  {
   "cell_type": "markdown",
   "metadata": {},
   "source": [
    "# Collecting Insights from the Text Data\n",
    "---\n",
    "In this notebook I will extract the top n-grams from the comments I collected to see if I can gain some insights about the current state of the cryptocurrency space."
   ]
  },
  {
   "cell_type": "code",
   "execution_count": 1,
   "metadata": {
    "collapsed": true
   },
   "outputs": [],
   "source": [
    "import pandas as pd\n",
    "import numpy as np\n",
    "import matplotlib.pyplot as plt\n",
    "import seaborn as sns\n",
    "\n",
    "%matplotlib inline \n",
    "\n",
    "plt.style.context('seaborn')\n",
    "pd.options.display.max_rows = 50"
   ]
  },
  {
   "cell_type": "code",
   "execution_count": 2,
   "metadata": {
    "scrolled": true
   },
   "outputs": [
    {
     "name": "stderr",
     "output_type": "stream",
     "text": [
      "/Users/elaiken3/anaconda2/lib/python2.7/site-packages/IPython/core/interactiveshell.py:2718: DtypeWarning: Columns (3) have mixed types. Specify dtype option on import or set low_memory=False.\n",
      "  interactivity=interactivity, compiler=compiler, result=result)\n"
     ]
    }
   ],
   "source": [
    "X = pd.read_csv('./top_final.csv')\n",
    "X2 = pd.read_csv('./sec_final.csv')"
   ]
  },
  {
   "cell_type": "code",
   "execution_count": 3,
   "metadata": {
    "collapsed": true
   },
   "outputs": [],
   "source": [
    "X2['Comment'] = X2['Comment'].astype(str)"
   ]
  },
  {
   "cell_type": "code",
   "execution_count": 10,
   "metadata": {},
   "outputs": [],
   "source": [
    "from sklearn.feature_extraction.text import TfidfVectorizer\n",
    "from collections import Counter\n",
    "\n",
    "# We can use the TfidfVectorizer to find ngrams for us\n",
    "vect = TfidfVectorizer(ngram_range=(2,4), stop_words='english')\n",
    "\n",
    "# Pulls all of titles text's into one giant string\n",
    "summaries1 = \"\".join(X['Comment'])\n",
    "ngrams_summaries1 = vect.build_analyzer()(summaries1)\n",
    "\n",
    "top100 = Counter(ngrams_summaries1).most_common(100)"
   ]
  },
  {
   "cell_type": "code",
   "execution_count": 5,
   "metadata": {
    "collapsed": true
   },
   "outputs": [],
   "source": [
    "#Repeating the process for second comments\n",
    "vect = TfidfVectorizer(ngram_range=(2,5), stop_words='english')\n",
    "summaries1 = \"\".join(X2['Comment'])\n",
    "ngrams_summaries1 = vect.build_analyzer()(summaries1)\n",
    "\n",
    "sec100 = Counter(ngrams_summaries1).most_common(100)\n",
    "\n"
   ]
  },
  {
   "cell_type": "code",
   "execution_count": 14,
   "metadata": {
    "collapsed": true
   },
   "outputs": [],
   "source": [
    "#Filtering out urls and other undesirable n-grams\n",
    "top_list =[]\n",
    "for el in top100:\n",
    "    top_list.append(el[0])"
   ]
  },
  {
   "cell_type": "code",
   "execution_count": 15,
   "metadata": {
    "collapsed": true
   },
   "outputs": [],
   "source": [
    "exclude = ['https www', 'reddit com', 'www reddit', 'www reddit com', 'https www reddit com', 'https www reddit', 'com cryptocurrency', 'reddit com cryptocurrency','https www reddit com cryptocurrency', 'http www reddit com', ]"
   ]
  },
  {
   "cell_type": "code",
   "execution_count": 16,
   "metadata": {
    "scrolled": true
   },
   "outputs": [
    {
     "data": {
      "text/plain": [
       "[u'market cap',\n",
       " u'https www',\n",
       " u'long term',\n",
       " u'guys think',\n",
       " u'looks like',\n",
       " u'btc eth',\n",
       " u'feel like',\n",
       " u'alt coins',\n",
       " u'imgur com',\n",
       " u'https imgur com',\n",
       " u'https imgur',\n",
       " u'time buy',\n",
       " u'reddit com',\n",
       " u'good time',\n",
       " u'don know',\n",
       " u'short term',\n",
       " u'hey guys',\n",
       " u'www reddit',\n",
       " u'www reddit com',\n",
       " u'https www reddit com',\n",
       " u'https www reddit',\n",
       " u'days ago',\n",
       " u'new crypto',\n",
       " u'eth ltc',\n",
       " u'does know',\n",
       " u'don want',\n",
       " u'eth btc',\n",
       " u'twitter com',\n",
       " u'want buy',\n",
       " u'https twitter',\n",
       " u'https twitter com',\n",
       " u'bitcoin cash',\n",
       " u'sell wall',\n",
       " u'youtube com',\n",
       " u'youtube com watch',\n",
       " u'low market',\n",
       " u'com watch',\n",
       " u'buy eth',\n",
       " u'com cryptocurrency',\n",
       " u'www youtube com',\n",
       " u'www youtube',\n",
       " u'buy dip',\n",
       " u've seen',\n",
       " u'crypto market',\n",
       " u'just bought',\n",
       " u've got',\n",
       " u'www youtube com watch',\n",
       " u'low market cap',\n",
       " u'weeks ago',\n",
       " u'https www youtube',\n",
       " u'https www youtube com',\n",
       " u'reddit com cryptocurrency',\n",
       " u'just got',\n",
       " u'cryptocurrency comments',\n",
       " u'pump dump',\n",
       " u'reddit com cryptocurrency comments',\n",
       " u'crypto currency',\n",
       " u'bank account',\n",
       " u'com cryptocurrency comments',\n",
       " u'sell walls',\n",
       " u'www reddit com cryptocurrency',\n",
       " u'24 hours',\n",
       " u'just want',\n",
       " u'best way',\n",
       " u'coins like',\n",
       " u'alt coin',\n",
       " u'ledger nano',\n",
       " u'hi guys',\n",
       " u'couple days',\n",
       " u'good time buy',\n",
       " u'ven icx',\n",
       " u'lot people',\n",
       " u'make money',\n",
       " u'weak hands',\n",
       " u'buy btc',\n",
       " u'coinmarketcap com',\n",
       " u'long time',\n",
       " u'initial investment',\n",
       " u'buy sell',\n",
       " u'don think',\n",
       " u'xlm req',\n",
       " u'new year',\n",
       " u'buy coins',\n",
       " u'hours ago',\n",
       " u'feels like',\n",
       " u'good idea',\n",
       " u'ltc eth',\n",
       " u'people think',\n",
       " u'day trading',\n",
       " u'buy xrb',\n",
       " u'bull run',\n",
       " u'req xlm',\n",
       " u'btc eth ltc',\n",
       " u'req ven',\n",
       " u'thanks advance',\n",
       " u'stock market',\n",
       " u'icx ven',\n",
       " u'good buy',\n",
       " u'eth neo',\n",
       " u'bull trap']"
      ]
     },
     "execution_count": 16,
     "metadata": {},
     "output_type": "execute_result"
    }
   ],
   "source": [
    "top_list"
   ]
  },
  {
   "cell_type": "code",
   "execution_count": 19,
   "metadata": {
    "collapsed": true
   },
   "outputs": [],
   "source": [
    "top100_filtered = [x for x in top100 if x[0] not in exclude]"
   ]
  },
  {
   "cell_type": "code",
   "execution_count": 20,
   "metadata": {},
   "outputs": [
    {
     "data": {
      "text/plain": [
       "[(u'market cap', 1595),\n",
       " (u'long term', 1026),\n",
       " (u'guys think', 914),\n",
       " (u'looks like', 773),\n",
       " (u'btc eth', 676),\n",
       " (u'feel like', 643),\n",
       " (u'alt coins', 554),\n",
       " (u'imgur com', 490),\n",
       " (u'https imgur com', 475),\n",
       " (u'https imgur', 475),\n",
       " (u'time buy', 474),\n",
       " (u'good time', 452),\n",
       " (u'don know', 446),\n",
       " (u'short term', 439),\n",
       " (u'hey guys', 398),\n",
       " (u'days ago', 384),\n",
       " (u'new crypto', 338),\n",
       " (u'eth ltc', 337),\n",
       " (u'does know', 330),\n",
       " (u'don want', 327),\n",
       " (u'eth btc', 323),\n",
       " (u'twitter com', 316),\n",
       " (u'want buy', 311),\n",
       " (u'https twitter', 292),\n",
       " (u'https twitter com', 291),\n",
       " (u'bitcoin cash', 279),\n",
       " (u'sell wall', 271),\n",
       " (u'youtube com', 266),\n",
       " (u'youtube com watch', 256),\n",
       " (u'low market', 256),\n",
       " (u'com watch', 256),\n",
       " (u'buy eth', 253),\n",
       " (u'www youtube com', 245),\n",
       " (u'www youtube', 245),\n",
       " (u'buy dip', 245),\n",
       " (u've seen', 244),\n",
       " (u'crypto market', 244),\n",
       " (u'just bought', 238),\n",
       " (u've got', 237),\n",
       " (u'www youtube com watch', 237),\n",
       " (u'low market cap', 236),\n",
       " (u'weeks ago', 236),\n",
       " (u'https www youtube', 236),\n",
       " (u'https www youtube com', 236),\n",
       " (u'just got', 235),\n",
       " (u'cryptocurrency comments', 233),\n",
       " (u'pump dump', 232),\n",
       " (u'reddit com cryptocurrency comments', 230),\n",
       " (u'crypto currency', 230),\n",
       " (u'bank account', 230),\n",
       " (u'com cryptocurrency comments', 230),\n",
       " (u'sell walls', 228),\n",
       " (u'www reddit com cryptocurrency', 227),\n",
       " (u'24 hours', 223),\n",
       " (u'just want', 219),\n",
       " (u'best way', 216),\n",
       " (u'coins like', 214),\n",
       " (u'alt coin', 211),\n",
       " (u'ledger nano', 207),\n",
       " (u'hi guys', 206),\n",
       " (u'couple days', 206),\n",
       " (u'good time buy', 206),\n",
       " (u'ven icx', 204),\n",
       " (u'lot people', 193),\n",
       " (u'make money', 192),\n",
       " (u'weak hands', 192),\n",
       " (u'buy btc', 186),\n",
       " (u'coinmarketcap com', 184),\n",
       " (u'long time', 182),\n",
       " (u'initial investment', 181),\n",
       " (u'buy sell', 180),\n",
       " (u'don think', 175),\n",
       " (u'xlm req', 174),\n",
       " (u'new year', 173),\n",
       " (u'buy coins', 173),\n",
       " (u'hours ago', 172),\n",
       " (u'feels like', 164),\n",
       " (u'good idea', 164),\n",
       " (u'ltc eth', 163),\n",
       " (u'people think', 163),\n",
       " (u'day trading', 162),\n",
       " (u'buy xrb', 161),\n",
       " (u'bull run', 159),\n",
       " (u'req xlm', 157),\n",
       " (u'btc eth ltc', 157),\n",
       " (u'req ven', 156),\n",
       " (u'thanks advance', 155),\n",
       " (u'stock market', 153),\n",
       " (u'icx ven', 152),\n",
       " (u'good buy', 147),\n",
       " (u'eth neo', 146),\n",
       " (u'bull trap', 145)]"
      ]
     },
     "execution_count": 20,
     "metadata": {},
     "output_type": "execute_result"
    }
   ],
   "source": [
    "top100_filtered"
   ]
  },
  {
   "cell_type": "code",
   "execution_count": 21,
   "metadata": {},
   "outputs": [],
   "source": [
    "sec100_filtered = [x for x in sec100 if x[0] not in exclude]"
   ]
  },
  {
   "cell_type": "code",
   "execution_count": 22,
   "metadata": {},
   "outputs": [
    {
     "data": {
      "text/plain": [
       "[(u'market cap', 2426),\n",
       " (u'long term', 2338),\n",
       " (u'btc eth', 936),\n",
       " (u'short term', 894),\n",
       " (u'don know', 845),\n",
       " (u'don think', 806),\n",
       " (u'looks like', 650),\n",
       " (u'days ago', 538),\n",
       " (u'feel like', 468),\n",
       " (u'time buy', 459),\n",
       " (u'eth btc', 441),\n",
       " (u'pump dump', 434),\n",
       " (u'good luck', 430),\n",
       " (u'www reddit com cryptocurrency', 429),\n",
       " (u'lot people', 425),\n",
       " (u'make money', 420),\n",
       " (u'eth ltc', 399),\n",
       " (u'make sure', 378),\n",
       " (u'low market', 365),\n",
       " (u'alt coins', 361),\n",
       " (u'working product', 358),\n",
       " (u'term hold', 342),\n",
       " (u'good time', 338),\n",
       " (u'weeks ago', 328),\n",
       " (u'don want', 327),\n",
       " (u'low market cap', 321),\n",
       " (u'long time', 320),\n",
       " (u'http www', 318),\n",
       " (u'buy eth', 310),\n",
       " (u'just bought', 304),\n",
       " (u'long term hold', 304),\n",
       " (u'coinmarketcap com', 304),\n",
       " (u've got', 303),\n",
       " (u'couple days', 293),\n",
       " (u've seen', 285),\n",
       " (u'coins like', 283),\n",
       " (u'think ll', 282),\n",
       " (u'sounds like', 281),\n",
       " (u'just like', 275),\n",
       " (u'good idea', 265),\n",
       " (u'pretty good', 259),\n",
       " (u'high risk', 253),\n",
       " (u'buy sell', 252),\n",
       " (u'cryptocurrency comments', 249),\n",
       " (u'reddit com cryptocurrency comments', 247),\n",
       " (u'com cryptocurrency comments', 247),\n",
       " (u'just hold', 245),\n",
       " (u'www reddit com cryptocurrency comments', 242),\n",
       " (u'eth neo', 240),\n",
       " (u'little bit', 240),\n",
       " (u'crypto market', 238),\n",
       " (u'cap coins', 235),\n",
       " (u'sell walls', 234),\n",
       " (u'room grow', 228),\n",
       " (u'use case', 227),\n",
       " (u'ven icx', 225),\n",
       " (u'want buy', 225),\n",
       " (u'don worry', 223),\n",
       " (u'initial investment', 223),\n",
       " (u'bank account', 222),\n",
       " (u'just got', 220),\n",
       " (u'buy btc', 220),\n",
       " (u'couple weeks', 219),\n",
       " (u'just buy', 218),\n",
       " (u'coinbase gdax', 217),\n",
       " (u'bitcoin cash', 216),\n",
       " (u'white paper', 215),\n",
       " (u'youtube com', 214),\n",
       " (u'lose money', 214),\n",
       " (u'real world', 213),\n",
       " (u'http www reddit', 213),\n",
       " (u'rules http', 212),\n",
       " (u'ledger nano', 212),\n",
       " (u'rules http www reddit com', 212),\n",
       " (u'rules http www', 212),\n",
       " (u'rules http www reddit', 212),\n",
       " (u'credit card', 212),\n",
       " (u'weak hands', 210),\n",
       " (u'10 days', 209),\n",
       " (u'ltc eth', 209),\n",
       " (u'stock market', 208),\n",
       " (u'long run', 208),\n",
       " (u'really good', 206),\n",
       " (u'www youtube', 204),\n",
       " (u'www youtube com', 203),\n",
       " (u'day trading', 202),\n",
       " (u'think people', 202),\n",
       " (u'bear market', 200),\n",
       " (u'buy dip', 200),\n",
       " (u'com watch', 199)]"
      ]
     },
     "execution_count": 22,
     "metadata": {},
     "output_type": "execute_result"
    }
   ],
   "source": [
    "sec100_filtered"
   ]
  }
 ],
 "metadata": {
  "kernelspec": {
   "display_name": "Python 2",
   "language": "python",
   "name": "python2"
  },
  "language_info": {
   "codemirror_mode": {
    "name": "ipython",
    "version": 2
   },
   "file_extension": ".py",
   "mimetype": "text/x-python",
   "name": "python",
   "nbconvert_exporter": "python",
   "pygments_lexer": "ipython2",
   "version": "2.7.14"
  }
 },
 "nbformat": 4,
 "nbformat_minor": 2
}
